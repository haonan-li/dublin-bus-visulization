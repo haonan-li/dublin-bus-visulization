{
 "cells": [
  {
   "cell_type": "code",
   "execution_count": 8,
   "metadata": {},
   "outputs": [],
   "source": [
    "from arcgis.gis import *\n",
    "from arcgis.geocoding import geocode, reverse_geocode\n",
    "from arcgis.geometry import Point"
   ]
  },
  {
   "cell_type": "code",
   "execution_count": 17,
   "metadata": {},
   "outputs": [],
   "source": [
    "dev_gis = GIS(\"https://www.arcgis.com\")"
   ]
  },
  {
   "cell_type": "code",
   "execution_count": 24,
   "metadata": {},
   "outputs": [
    {
     "data": {
      "text/plain": [
       "[<Item title:\"Ireland Classic Map\" type:Web Map owner:NationalGeographic>,\n",
       " <Item title:\"Ireland Classic Map (Web Mercator)\" type:Web Map owner:NationalGeographic>,\n",
       " <Item title:\"Dublin Things To Do\" type:Web Map owner:kerryph>,\n",
       " <Item title:\"lat and long\" type:Web Map owner:alyssamr1205>,\n",
       " <Item title:\"Easter Rising 1916 to Present.\" type:Web Map owner:mlapuyade2018GIS>,\n",
       " <Item title:\"Easter Rising 1916 to Present\" type:Web Map owner:durriken2000_EGTC>,\n",
       " <Item title:\"Easter Rising 1916 to Present\" type:Web Map owner:mlmurphy@scgov.net>,\n",
       " <Item title:\"Easter Rising 1916 to Present\" type:Web Map owner:arausch_Natick>,\n",
       " <Item title:\"Dublin Ireland-Copy\" type:Web Map owner:ohchs17>,\n",
       " <Item title:\"Easter Rising 1916 to Present\" type:Web Map owner:shiloh236>]"
      ]
     },
     "execution_count": 24,
     "metadata": {},
     "output_type": "execute_result"
    }
   ],
   "source": [
    "webmap_search = dev_gis.content.search(query = \"Dublin, Ireland\", item_type = \"Web Map\")\n",
    "webmap_search"
   ]
  },
  {
   "cell_type": "code",
   "execution_count": 28,
   "metadata": {},
   "outputs": [
    {
     "data": {
      "text/html": [
       "<div class=\"item_container\" style=\"height: auto; overflow: hidden; border: 1px solid #cfcfcf; border-radius: 2px; background: #f6fafa; line-height: 1.21429em; padding: 10px;\">\n",
       "                    <div class=\"item_left\" style=\"width: 210px; float: left;\">\n",
       "                       <a href='https://www.arcgis.com/home/item.html?id=19b0555324d349d2a490b302671f3fbb' target='_blank'>\n",
       "                        <img src='https://www.arcgis.com/sharing/rest//content/items/19b0555324d349d2a490b302671f3fbb/info/thumbnail/ago_downloaded.png' class=\"itemThumbnail\">\n",
       "                       </a>\n",
       "                    </div>\n",
       "\n",
       "                    <div class=\"item_right\"     style=\"float: none; width: auto; overflow: hidden;\">\n",
       "                        <a href='https://www.arcgis.com/home/item.html?id=19b0555324d349d2a490b302671f3fbb' target='_blank'><b>Dublin Things To Do</b>\n",
       "                        </a>\n",
       "                        <br/>Interactive map of things to do in Dublin, Ireland.<img src='https://www.arcgis.com/home/js/jsapi/esri/css/images/item_type_icons/maps16.png' style=\"vertical-align:middle;\">Web Map by kerryph\n",
       "                        <br/>Last Modified: October 16, 2014\n",
       "                        <br/>1 comments, 315 views\n",
       "                    </div>\n",
       "                </div>\n",
       "                "
      ],
      "text/plain": [
       "<Item title:\"Dublin Things To Do\" type:Web Map owner:kerryph>"
      ]
     },
     "execution_count": 28,
     "metadata": {},
     "output_type": "execute_result"
    }
   ],
   "source": [
    "webmap = webmap_search[2]\n",
    "webmap"
   ]
  },
  {
   "cell_type": "code",
   "execution_count": 12,
   "metadata": {},
   "outputs": [],
   "source": [
    "map1.draw(geocode_result)"
   ]
  },
  {
   "cell_type": "code",
   "execution_count": 13,
   "metadata": {},
   "outputs": [],
   "source": [
    "map1.clear_graphics()"
   ]
  },
  {
   "cell_type": "code",
   "execution_count": 14,
   "metadata": {},
   "outputs": [],
   "source": [
    "location = {'Y':34.13419,'X':-118.29636,\n",
    "            'spatialReference':{\n",
    "            'wkid':4326}\n",
    "           }\n",
    "unknown_pt = Point(location)"
   ]
  },
  {
   "cell_type": "code",
   "execution_count": 15,
   "metadata": {},
   "outputs": [
    {
     "data": {
      "text/plain": [
       "{'address': {'Match_addr': 'Vista del Valle Dr, Los Angeles, California, 90027',\n",
       "  'LongLabel': 'Vista del Valle Dr, Los Angeles, CA, 90027, USA',\n",
       "  'ShortLabel': 'Vista del Valle Dr',\n",
       "  'Addr_type': 'StreetName',\n",
       "  'Type': '',\n",
       "  'PlaceName': '',\n",
       "  'AddNum': '',\n",
       "  'Address': 'Vista del Valle Dr',\n",
       "  'Block': '',\n",
       "  'Sector': '',\n",
       "  'Neighborhood': 'Los Feliz',\n",
       "  'District': '',\n",
       "  'City': 'Los Angeles',\n",
       "  'MetroArea': 'Los Angeles Metro Area',\n",
       "  'Subregion': 'Los Angeles County',\n",
       "  'Region': 'California',\n",
       "  'Territory': '',\n",
       "  'Postal': '90027',\n",
       "  'PostalExt': '',\n",
       "  'CountryCode': 'USA'},\n",
       " 'location': {'x': -118.29641724469197,\n",
       "  'y': 34.13381075391577,\n",
       "  'spatialReference': {'wkid': 4326, 'latestWkid': 4326}}}"
      ]
     },
     "execution_count": 15,
     "metadata": {},
     "output_type": "execute_result"
    }
   ],
   "source": [
    "address = reverse_geocode(location=unknown_pt)\n",
    "address"
   ]
  },
  {
   "cell_type": "code",
   "execution_count": null,
   "metadata": {},
   "outputs": [],
   "source": []
  }
 ],
 "metadata": {
  "kernelspec": {
   "display_name": "Python 3",
   "language": "python",
   "name": "python3"
  },
  "language_info": {
   "codemirror_mode": {
    "name": "ipython",
    "version": 3
   },
   "file_extension": ".py",
   "mimetype": "text/x-python",
   "name": "python",
   "nbconvert_exporter": "python",
   "pygments_lexer": "ipython3",
   "version": "3.7.0"
  }
 },
 "nbformat": 4,
 "nbformat_minor": 2
}
