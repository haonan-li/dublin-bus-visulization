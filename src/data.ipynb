{
 "cells": [
  {
   "cell_type": "markdown",
   "metadata": {
    "nbpresent": {
     "id": "f445232c-fc70-43dd-8f91-ca3d9e9190de"
    }
   },
   "source": [
    "# Data pre-processing for dublin-bus datasets"
   ]
  },
  {
   "cell_type": "code",
   "execution_count": 116,
   "metadata": {
    "nbpresent": {
     "id": "9f81f4a2-97d0-4ef1-a9c3-482fd44dc496"
    }
   },
   "outputs": [],
   "source": [
    "import os\n",
    "import sys\n",
    "import pandas as pd\n",
    "import progressbar"
   ]
  },
  {
   "cell_type": "markdown",
   "metadata": {
    "nbpresent": {
     "id": "89eb35cc-4d2c-4029-bb18-eab446a8b2ed"
    }
   },
   "source": [
    "## Read data into a dataframe"
   ]
  },
  {
   "cell_type": "code",
   "execution_count": 3,
   "metadata": {
    "nbpresent": {
     "id": "c7e450fd-ea1a-4b09-9953-03c7938a7985"
    }
   },
   "outputs": [],
   "source": [
    "header = ['Timestamp','Line_ID','Direction','Journey_Pattern_ID','Time_Frame','Vehicle_Journey_ID', \\\n",
    "         'Operator','Congestion','Lon','Lat','Delay','Block_ID','Vehicle_ID','Stop_ID','At_Stop']\n",
    "data_dir = '../dublin_data/'\n",
    "data_file = data_dir + 'siri.20130101.csv'\n",
    "df = pd.read_csv(data_file, header=None, names=header)"
   ]
  },
  {
   "cell_type": "code",
   "execution_count": 22,
   "metadata": {},
   "outputs": [
    {
     "name": "stdout",
     "output_type": "stream",
     "text": [
      "['siri.20130101.csv', 'siri.20130102.csv', 'siri.20130103.csv', 'siri.20130104.csv', 'siri.20130105.csv', 'siri.20130106.csv', 'siri.20130107.csv', 'siri.20130108.csv', 'siri.20130109.csv', 'siri.20130110.csv', 'siri.20130111.csv', 'siri.20130112.csv', 'siri.20130113.csv', 'siri.20130114.csv', 'siri.20130115.csv', 'siri.20130116.csv', 'siri.20130117.csv', 'siri.20130118.csv', 'siri.20130119.csv', 'siri.20130120.csv', 'siri.20130121.csv', 'siri.20130122.csv', 'siri.20130123.csv', 'siri.20130124.csv', 'siri.20130125.csv', 'siri.20130126.csv', 'siri.20130127.csv', 'siri.20130128.csv', 'siri.20130129.csv', 'siri.20130130.csv', 'siri.20130131.csv']\n"
     ]
    }
   ],
   "source": [
    "items = os.listdir(data_dir)\n",
    "items = [item for item in items if (item[:4]=='siri')]\n",
    "# print (items)"
   ]
  },
  {
   "cell_type": "code",
   "execution_count": 4,
   "metadata": {
    "nbpresent": {
     "id": "b92d96fd-d2dd-46a7-9cff-e64f070b79ab"
    },
    "scrolled": true
   },
   "outputs": [
    {
     "data": {
      "text/html": [
       "<div>\n",
       "<style scoped>\n",
       "    .dataframe tbody tr th:only-of-type {\n",
       "        vertical-align: middle;\n",
       "    }\n",
       "\n",
       "    .dataframe tbody tr th {\n",
       "        vertical-align: top;\n",
       "    }\n",
       "\n",
       "    .dataframe thead th {\n",
       "        text-align: right;\n",
       "    }\n",
       "</style>\n",
       "<table border=\"1\" class=\"dataframe\">\n",
       "  <thead>\n",
       "    <tr style=\"text-align: right;\">\n",
       "      <th></th>\n",
       "      <th>Timestamp</th>\n",
       "      <th>Line_ID</th>\n",
       "      <th>Direction</th>\n",
       "      <th>Journey_Pattern_ID</th>\n",
       "      <th>Time_Frame</th>\n",
       "      <th>Vehicle_Journey_ID</th>\n",
       "      <th>Operator</th>\n",
       "      <th>Congestion</th>\n",
       "      <th>Lon</th>\n",
       "      <th>Lat</th>\n",
       "      <th>Delay</th>\n",
       "      <th>Block_ID</th>\n",
       "      <th>Vehicle_ID</th>\n",
       "      <th>Stop_ID</th>\n",
       "      <th>At_Stop</th>\n",
       "    </tr>\n",
       "  </thead>\n",
       "  <tbody>\n",
       "    <tr>\n",
       "      <th>0</th>\n",
       "      <td>1356998403000000</td>\n",
       "      <td>747.0</td>\n",
       "      <td>0</td>\n",
       "      <td>07470001</td>\n",
       "      <td>2012-12-31</td>\n",
       "      <td>3493</td>\n",
       "      <td>SL</td>\n",
       "      <td>0</td>\n",
       "      <td>-6.236852</td>\n",
       "      <td>53.425327</td>\n",
       "      <td>-709</td>\n",
       "      <td>747006</td>\n",
       "      <td>40040</td>\n",
       "      <td>7411.0</td>\n",
       "      <td>0</td>\n",
       "    </tr>\n",
       "    <tr>\n",
       "      <th>1</th>\n",
       "      <td>1356998405000000</td>\n",
       "      <td>27.0</td>\n",
       "      <td>0</td>\n",
       "      <td>NaN</td>\n",
       "      <td>2012-12-31</td>\n",
       "      <td>3883</td>\n",
       "      <td>RD</td>\n",
       "      <td>0</td>\n",
       "      <td>-6.233417</td>\n",
       "      <td>53.342232</td>\n",
       "      <td>0</td>\n",
       "      <td>27017</td>\n",
       "      <td>33521</td>\n",
       "      <td>395.0</td>\n",
       "      <td>0</td>\n",
       "    </tr>\n",
       "    <tr>\n",
       "      <th>2</th>\n",
       "      <td>1356998407000000</td>\n",
       "      <td>40.0</td>\n",
       "      <td>0</td>\n",
       "      <td>NaN</td>\n",
       "      <td>2012-12-31</td>\n",
       "      <td>2226</td>\n",
       "      <td>HN</td>\n",
       "      <td>0</td>\n",
       "      <td>-6.278250</td>\n",
       "      <td>53.416683</td>\n",
       "      <td>0</td>\n",
       "      <td>40206</td>\n",
       "      <td>33142</td>\n",
       "      <td>6071.0</td>\n",
       "      <td>0</td>\n",
       "    </tr>\n",
       "    <tr>\n",
       "      <th>3</th>\n",
       "      <td>1356998407000000</td>\n",
       "      <td>7.0</td>\n",
       "      <td>0</td>\n",
       "      <td>00071003</td>\n",
       "      <td>2012-12-31</td>\n",
       "      <td>6106</td>\n",
       "      <td>D1</td>\n",
       "      <td>0</td>\n",
       "      <td>-6.231633</td>\n",
       "      <td>53.317768</td>\n",
       "      <td>0</td>\n",
       "      <td>7019</td>\n",
       "      <td>43004</td>\n",
       "      <td>3222.0</td>\n",
       "      <td>1</td>\n",
       "    </tr>\n",
       "    <tr>\n",
       "      <th>4</th>\n",
       "      <td>1356998411000000</td>\n",
       "      <td>747.0</td>\n",
       "      <td>0</td>\n",
       "      <td>07471001</td>\n",
       "      <td>2012-12-31</td>\n",
       "      <td>3531</td>\n",
       "      <td>SL</td>\n",
       "      <td>0</td>\n",
       "      <td>-6.254617</td>\n",
       "      <td>53.355484</td>\n",
       "      <td>-454</td>\n",
       "      <td>747007</td>\n",
       "      <td>40039</td>\n",
       "      <td>1445.0</td>\n",
       "      <td>0</td>\n",
       "    </tr>\n",
       "    <tr>\n",
       "      <th>5</th>\n",
       "      <td>1356998411000000</td>\n",
       "      <td>56.0</td>\n",
       "      <td>0</td>\n",
       "      <td>056A1001</td>\n",
       "      <td>2012-12-31</td>\n",
       "      <td>1830</td>\n",
       "      <td>RD</td>\n",
       "      <td>0</td>\n",
       "      <td>-6.233183</td>\n",
       "      <td>53.342201</td>\n",
       "      <td>0</td>\n",
       "      <td>56001</td>\n",
       "      <td>33488</td>\n",
       "      <td>2379.0</td>\n",
       "      <td>0</td>\n",
       "    </tr>\n",
       "    <tr>\n",
       "      <th>6</th>\n",
       "      <td>1356998417000000</td>\n",
       "      <td>25.0</td>\n",
       "      <td>0</td>\n",
       "      <td>025A0001</td>\n",
       "      <td>2012-12-31</td>\n",
       "      <td>2866</td>\n",
       "      <td>CD</td>\n",
       "      <td>0</td>\n",
       "      <td>-6.296867</td>\n",
       "      <td>53.347500</td>\n",
       "      <td>0</td>\n",
       "      <td>25007</td>\n",
       "      <td>33604</td>\n",
       "      <td>4604.0</td>\n",
       "      <td>0</td>\n",
       "    </tr>\n",
       "    <tr>\n",
       "      <th>7</th>\n",
       "      <td>1356998423000000</td>\n",
       "      <td>747.0</td>\n",
       "      <td>0</td>\n",
       "      <td>07470001</td>\n",
       "      <td>2012-12-31</td>\n",
       "      <td>3493</td>\n",
       "      <td>SL</td>\n",
       "      <td>0</td>\n",
       "      <td>-6.238668</td>\n",
       "      <td>53.425789</td>\n",
       "      <td>-687</td>\n",
       "      <td>747006</td>\n",
       "      <td>40040</td>\n",
       "      <td>7411.0</td>\n",
       "      <td>0</td>\n",
       "    </tr>\n",
       "    <tr>\n",
       "      <th>8</th>\n",
       "      <td>1356998425000000</td>\n",
       "      <td>27.0</td>\n",
       "      <td>0</td>\n",
       "      <td>NaN</td>\n",
       "      <td>2012-12-31</td>\n",
       "      <td>3883</td>\n",
       "      <td>RD</td>\n",
       "      <td>0</td>\n",
       "      <td>-6.233400</td>\n",
       "      <td>53.342232</td>\n",
       "      <td>0</td>\n",
       "      <td>27017</td>\n",
       "      <td>33521</td>\n",
       "      <td>395.0</td>\n",
       "      <td>0</td>\n",
       "    </tr>\n",
       "    <tr>\n",
       "      <th>9</th>\n",
       "      <td>1356998427000000</td>\n",
       "      <td>4.0</td>\n",
       "      <td>0</td>\n",
       "      <td>NaN</td>\n",
       "      <td>2012-12-31</td>\n",
       "      <td>4243</td>\n",
       "      <td>HN</td>\n",
       "      <td>0</td>\n",
       "      <td>-6.279000</td>\n",
       "      <td>53.416683</td>\n",
       "      <td>0</td>\n",
       "      <td>4001</td>\n",
       "      <td>43043</td>\n",
       "      <td>7226.0</td>\n",
       "      <td>0</td>\n",
       "    </tr>\n",
       "  </tbody>\n",
       "</table>\n",
       "</div>"
      ],
      "text/plain": [
       "          Timestamp  Line_ID  Direction Journey_Pattern_ID  Time_Frame  \\\n",
       "0  1356998403000000    747.0          0           07470001  2012-12-31   \n",
       "1  1356998405000000     27.0          0                NaN  2012-12-31   \n",
       "2  1356998407000000     40.0          0                NaN  2012-12-31   \n",
       "3  1356998407000000      7.0          0           00071003  2012-12-31   \n",
       "4  1356998411000000    747.0          0           07471001  2012-12-31   \n",
       "5  1356998411000000     56.0          0           056A1001  2012-12-31   \n",
       "6  1356998417000000     25.0          0           025A0001  2012-12-31   \n",
       "7  1356998423000000    747.0          0           07470001  2012-12-31   \n",
       "8  1356998425000000     27.0          0                NaN  2012-12-31   \n",
       "9  1356998427000000      4.0          0                NaN  2012-12-31   \n",
       "\n",
       "   Vehicle_Journey_ID Operator  Congestion       Lon        Lat  Delay  \\\n",
       "0                3493       SL           0 -6.236852  53.425327   -709   \n",
       "1                3883       RD           0 -6.233417  53.342232      0   \n",
       "2                2226       HN           0 -6.278250  53.416683      0   \n",
       "3                6106       D1           0 -6.231633  53.317768      0   \n",
       "4                3531       SL           0 -6.254617  53.355484   -454   \n",
       "5                1830       RD           0 -6.233183  53.342201      0   \n",
       "6                2866       CD           0 -6.296867  53.347500      0   \n",
       "7                3493       SL           0 -6.238668  53.425789   -687   \n",
       "8                3883       RD           0 -6.233400  53.342232      0   \n",
       "9                4243       HN           0 -6.279000  53.416683      0   \n",
       "\n",
       "   Block_ID  Vehicle_ID  Stop_ID  At_Stop  \n",
       "0    747006       40040   7411.0        0  \n",
       "1     27017       33521    395.0        0  \n",
       "2     40206       33142   6071.0        0  \n",
       "3      7019       43004   3222.0        1  \n",
       "4    747007       40039   1445.0        0  \n",
       "5     56001       33488   2379.0        0  \n",
       "6     25007       33604   4604.0        0  \n",
       "7    747006       40040   7411.0        0  \n",
       "8     27017       33521    395.0        0  \n",
       "9      4001       43043   7226.0        0  "
      ]
     },
     "execution_count": 4,
     "metadata": {},
     "output_type": "execute_result"
    }
   ],
   "source": [
    "# print df (first 10 rows)\n",
    "df[0:10]"
   ]
  },
  {
   "cell_type": "markdown",
   "metadata": {
    "nbpresent": {
     "id": "60fef98d-9fe8-4f9b-85a8-65c3c3b78da4"
    }
   },
   "source": [
    "## Main functions"
   ]
  },
  {
   "cell_type": "code",
   "execution_count": 5,
   "metadata": {
    "nbpresent": {
     "id": "4ba93237-89f3-40d5-81cc-82775dd7d696"
    }
   },
   "outputs": [],
   "source": [
    "# output a dataframe to specific file\n",
    "def output(df,outfile):\n",
    "    df.to_csv(outfile, index=False)\n",
    "\n",
    "# keep columns by column names\n",
    "def keep_cols(df,cols):\n",
    "    drops = header[:]\n",
    "    [drops.remove(i) for i in cols]\n",
    "    ndf = df.drop(drops, axis=1)\n",
    "    return ndf\n",
    "\n",
    "# keep rows by condition\n",
    "def keep_rows(df,col,satisfy):\n",
    "    ndf = df[satisfy(df,col)]\n",
    "    return ndf"
   ]
  },
  {
   "cell_type": "code",
   "execution_count": 6,
   "metadata": {
    "nbpresent": {
     "id": "d32664d2-a2ca-485a-ad87-6893aecb6ed0"
    }
   },
   "outputs": [],
   "source": [
    "# Return true if col value equal or larger then threshold\n",
    "def larger(df,col,threshold=1):\n",
    "    return df[col] >= threshold"
   ]
  },
  {
   "cell_type": "markdown",
   "metadata": {
    "nbpresent": {
     "id": "9e5b8d62-9eef-4591-8a46-c23656e6cb6b"
    }
   },
   "source": [
    "## Tests"
   ]
  },
  {
   "cell_type": "code",
   "execution_count": 159,
   "metadata": {
    "nbpresent": {
     "id": "f41d6284-7e68-49a2-8f17-1f9d22dbcd88"
    }
   },
   "outputs": [],
   "source": [
    "# test keep_column\n",
    "cols = ['Timestamp','Line_ID','Lon','Lat']\n",
    "ndf = keep_cols(df,cols)\n",
    "nndf = ndf[~ndf.Line_ID.isnull()]\n",
    "line_ids = set(nndf['Line_ID'].values)"
   ]
  },
  {
   "cell_type": "code",
   "execution_count": 180,
   "metadata": {
    "nbpresent": {
     "id": "c7a1caa6-530f-41d5-a75f-aecea8bcdae2"
    },
    "scrolled": true
   },
   "outputs": [
    {
     "name": "stderr",
     "output_type": "stream",
     "text": [
      "/Users/Nathan/miniconda2/lib/python2.7/site-packages/ipykernel/__main__.py:7: SettingWithCopyWarning: \n",
      "A value is trying to be set on a copy of a slice from a DataFrame.\n",
      "Try using .loc[row_indexer,col_indexer] = value instead\n",
      "\n",
      "See the caveats in the documentation: http://pandas.pydata.org/pandas-docs/stable/indexing.html#indexing-view-versus-copy\n",
      "/Users/Nathan/miniconda2/lib/python2.7/site-packages/ipykernel/__main__.py:8: SettingWithCopyWarning: \n",
      "A value is trying to be set on a copy of a slice from a DataFrame.\n",
      "Try using .loc[row_indexer,col_indexer] = value instead\n",
      "\n",
      "See the caveats in the documentation: http://pandas.pydata.org/pandas-docs/stable/indexing.html#indexing-view-versus-copy\n"
     ]
    }
   ],
   "source": [
    "ldf = []\n",
    "for line_id in line_ids:\n",
    "    sndf = ndf[ndf.Line_ID == line_id]\n",
    "    lsndf = sndf.copy()\n",
    "    sndf.drop(sndf.index[-1],inplace=True)\n",
    "    lsndf.drop(lsndf.index[0],inplace=True)\n",
    "    sndf['toLon'] = lsndf['Lon'].values\n",
    "    sndf['toLat'] = lsndf['Lat'].values\n",
    "    ldf.append(sndf)\n",
    "odf = pd.concat(ldf)"
   ]
  },
  {
   "cell_type": "code",
   "execution_count": 182,
   "metadata": {},
   "outputs": [
    {
     "data": {
      "text/plain": [
       "(776573, 6)"
      ]
     },
     "execution_count": 182,
     "metadata": {},
     "output_type": "execute_result"
    }
   ],
   "source": [
    "a.shape"
   ]
  }
 ],
 "metadata": {
  "kernelspec": {
   "display_name": "Python [default]",
   "language": "python",
   "name": "python2"
  },
  "language_info": {
   "codemirror_mode": {
    "name": "ipython",
    "version": 2
   },
   "file_extension": ".py",
   "mimetype": "text/x-python",
   "name": "python",
   "nbconvert_exporter": "python",
   "pygments_lexer": "ipython2",
   "version": "2.7.15"
  }
 },
 "nbformat": 4,
 "nbformat_minor": 2
}
